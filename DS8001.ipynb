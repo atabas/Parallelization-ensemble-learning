{
 "cells": [
  {
   "cell_type": "markdown",
   "metadata": {},
   "source": [
    "# Parallelization of segments of the end to end ensemble training and evaluation for a text classification task\n",
    "\n",
    "The problem taken from this [Kaggle competition](https://www.kaggle.com/c/spooky-author-identification).\n",
    "Data can be downloaded from [here](https://www.kaggle.com/c/spooky-author-identification/data). The `train.csv` and `test.csv` must be present in the same directory as this notebook.\n",
    "Also, download the Glove embeddings file `glove.840B.300d.zip` from [here](https://nlp.stanford.edu/projects/glove/), unzip it and keep in the same directory. One final thing you need to do is to split this file into 4 equal segments called `glove_part1.txt`, `glove_part2.txt`, `glove_part3.txt` and `glove_part4.txt`. We have done it using unix's `split` command\n",
    "\n",
    "```\n",
    "split -l 549005 glove.840B.300d.txt\n",
    "```\n",
    "and then renamed the parts like mentioned. These 4 split files also have to be in the same directory.\n",
    "Once you have these, you can run this notebook in a pyhton 3 virtual environment where you have the following packages installed: `pandas, numpy, matplotlib, nltk, sklearn, keras, jupyter`\n",
    " "
   ]
  },
  {
   "cell_type": "markdown",
   "metadata": {},
   "source": [
    "### Necessary imports"
   ]
  },
  {
   "cell_type": "code",
   "execution_count": 195,
   "metadata": {},
   "outputs": [],
   "source": [
    "import pandas as pd\n",
    "import numpy as np\n",
    "import math\n",
    "import nltk\n",
    "\n",
    "from nltk.stem import WordNetLemmatizer \n",
    "from nltk.stem.lancaster import LancasterStemmer\n",
    "from nltk.stem import PorterStemmer\n",
    "from nltk.corpus import stopwords\n",
    "from nltk import word_tokenize\n",
    "\n",
    "from sklearn.naive_bayes import MultinomialNB, GaussianNB\n",
    "from sklearn.ensemble import RandomForestClassifier\n",
    "from sklearn.linear_model import LogisticRegression\n",
    "from sklearn.model_selection import train_test_split\n",
    "from sklearn.feature_extraction.text import TfidfVectorizer, CountVectorizer\n",
    "from sklearn.preprocessing import LabelEncoder\n",
    "from scipy.sparse import hstack as sp_hstack, vstack as sp_vstack\n",
    "from scipy.interpolate import make_interp_spline, BSpline\n",
    "\n",
    "from joblib import Parallel, delayed\n",
    "\n",
    "import time\n",
    "\n",
    "from keras.models import Sequential\n",
    "from keras.layers.recurrent import LSTM, GRU\n",
    "from keras.layers.core import Dense, Activation, Dropout, Layer, K\n",
    "from keras.layers.embeddings import Embedding\n",
    "from keras.layers.normalization import BatchNormalization\n",
    "from keras.utils import np_utils\n",
    "from keras.layers import GlobalMaxPooling1D, Conv1D, MaxPooling1D, Flatten, Bidirectional, SpatialDropout1D\n",
    "from keras.preprocessing import sequence, text\n",
    "from keras.callbacks import EarlyStopping, Callback\n",
    "\n",
    "import pickle\n",
    "import matplotlib.pyplot as plt\n",
    "%matplotlib inline"
   ]
  },
  {
   "cell_type": "markdown",
   "metadata": {},
   "source": [
    "### Load the data"
   ]
  },
  {
   "cell_type": "code",
   "execution_count": 2,
   "metadata": {},
   "outputs": [],
   "source": [
    "test_set = pd.read_csv('test.csv')\n",
    "training_set = pd.read_csv('train.csv')"
   ]
  },
  {
   "cell_type": "markdown",
   "metadata": {},
   "source": [
    "### Explore the data a bit"
   ]
  },
  {
   "cell_type": "code",
   "execution_count": 3,
   "metadata": {},
   "outputs": [
    {
     "data": {
      "text/html": [
       "<div>\n",
       "<style scoped>\n",
       "    .dataframe tbody tr th:only-of-type {\n",
       "        vertical-align: middle;\n",
       "    }\n",
       "\n",
       "    .dataframe tbody tr th {\n",
       "        vertical-align: top;\n",
       "    }\n",
       "\n",
       "    .dataframe thead th {\n",
       "        text-align: right;\n",
       "    }\n",
       "</style>\n",
       "<table border=\"1\" class=\"dataframe\">\n",
       "  <thead>\n",
       "    <tr style=\"text-align: right;\">\n",
       "      <th></th>\n",
       "      <th>id</th>\n",
       "      <th>text</th>\n",
       "      <th>author</th>\n",
       "    </tr>\n",
       "  </thead>\n",
       "  <tbody>\n",
       "    <tr>\n",
       "      <th>0</th>\n",
       "      <td>id26305</td>\n",
       "      <td>This process, however, afforded me no means of...</td>\n",
       "      <td>EAP</td>\n",
       "    </tr>\n",
       "    <tr>\n",
       "      <th>1</th>\n",
       "      <td>id17569</td>\n",
       "      <td>It never once occurred to me that the fumbling...</td>\n",
       "      <td>HPL</td>\n",
       "    </tr>\n",
       "    <tr>\n",
       "      <th>2</th>\n",
       "      <td>id11008</td>\n",
       "      <td>In his left hand was a gold snuff box, from wh...</td>\n",
       "      <td>EAP</td>\n",
       "    </tr>\n",
       "    <tr>\n",
       "      <th>3</th>\n",
       "      <td>id27763</td>\n",
       "      <td>How lovely is spring As we looked from Windsor...</td>\n",
       "      <td>MWS</td>\n",
       "    </tr>\n",
       "    <tr>\n",
       "      <th>4</th>\n",
       "      <td>id12958</td>\n",
       "      <td>Finding nothing else, not even gold, the Super...</td>\n",
       "      <td>HPL</td>\n",
       "    </tr>\n",
       "  </tbody>\n",
       "</table>\n",
       "</div>"
      ],
      "text/plain": [
       "        id                                               text author\n",
       "0  id26305  This process, however, afforded me no means of...    EAP\n",
       "1  id17569  It never once occurred to me that the fumbling...    HPL\n",
       "2  id11008  In his left hand was a gold snuff box, from wh...    EAP\n",
       "3  id27763  How lovely is spring As we looked from Windsor...    MWS\n",
       "4  id12958  Finding nothing else, not even gold, the Super...    HPL"
      ]
     },
     "execution_count": 3,
     "metadata": {},
     "output_type": "execute_result"
    }
   ],
   "source": [
    "training_set.head()"
   ]
  },
  {
   "cell_type": "code",
   "execution_count": 4,
   "metadata": {},
   "outputs": [
    {
     "name": "stdout",
     "output_type": "stream",
     "text": [
      "(7900, 3)\n",
      "(5635, 3)\n",
      "(6044, 3)\n"
     ]
    }
   ],
   "source": [
    "print(training_set[training_set.author == 'EAP'].shape)\n",
    "print(training_set[training_set.author == 'HPL'].shape)\n",
    "print(training_set[training_set.author == 'MWS'].shape)"
   ]
  },
  {
   "cell_type": "markdown",
   "metadata": {},
   "source": [
    "### Train-validation split"
   ]
  },
  {
   "cell_type": "code",
   "execution_count": 5,
   "metadata": {},
   "outputs": [],
   "source": [
    "df_train, df_val = train_test_split(training_set, stratify=training_set['author'], random_state=20, test_size=0.2, shuffle=True)"
   ]
  },
  {
   "cell_type": "code",
   "execution_count": 6,
   "metadata": {},
   "outputs": [],
   "source": [
    "x_train = df_train['text']\n",
    "y_train = df_train['author']\n",
    "x_val = df_val['text']\n",
    "y_val = df_val['author']"
   ]
  },
  {
   "cell_type": "markdown",
   "metadata": {},
   "source": [
    "### Encode the label values in Keras ready format."
   ]
  },
  {
   "cell_type": "code",
   "execution_count": 7,
   "metadata": {},
   "outputs": [],
   "source": [
    "label_enc = LabelEncoder()\n",
    "y_train = label_enc.fit_transform(y_train)\n",
    "y_val = label_enc.transform(y_val)"
   ]
  },
  {
   "cell_type": "markdown",
   "metadata": {},
   "source": [
    "### Utility method for getting succesive chunks of data. This is handy method for the data parallelization stuffs used later."
   ]
  },
  {
   "cell_type": "code",
   "execution_count": 8,
   "metadata": {},
   "outputs": [],
   "source": [
    "def next_chunk(data):\n",
    "    for i in range(4):\n",
    "        yield data[math.ceil(i * len(data) / 4):math.ceil((i + 1) * len(data) / 4)]"
   ]
  },
  {
   "cell_type": "markdown",
   "metadata": {},
   "source": [
    "The following loss measure function has been taken from [this Kaggle kernel](https://www.kaggle.com/abhishek/approaching-almost-any-nlp-problem-on-kaggle). "
   ]
  },
  {
   "cell_type": "code",
   "execution_count": 49,
   "metadata": {},
   "outputs": [],
   "source": [
    "def multiclass_logloss(actual, predicted, eps=1e-15):\n",
    "    \"\"\"Multi class version of Logarithmic Loss metric.\n",
    "    :param actual: Array containing the actual target classes\n",
    "    :param predicted: Matrix with class predictions, one probability per class\n",
    "    \"\"\"\n",
    "    # Convert 'actual' to a binary array if it's not already:\n",
    "    if len(actual.shape) == 1:\n",
    "        actual2 = np.zeros((actual.shape[0], predicted.shape[1]))\n",
    "        for i, val in enumerate(actual):\n",
    "            actual2[i, val] = 1\n",
    "        actual = actual2\n",
    "\n",
    "    clip = np.clip(predicted, eps, 1 - eps)\n",
    "    rows = actual.shape[0]\n",
    "    vsota = np.sum(actual * np.log(clip))\n",
    "    return -1.0 / rows * vsota"
   ]
  },
  {
   "cell_type": "markdown",
   "metadata": {},
   "source": [
    "### Download some necessary nltk stuffs"
   ]
  },
  {
   "cell_type": "code",
   "execution_count": 54,
   "metadata": {},
   "outputs": [
    {
     "name": "stderr",
     "output_type": "stream",
     "text": [
      "[nltk_data] Downloading package stopwords to\n",
      "[nltk_data]     C:\\Users\\Acer\\AppData\\Roaming\\nltk_data...\n",
      "[nltk_data]   Package stopwords is already up-to-date!\n"
     ]
    },
    {
     "data": {
      "text/plain": [
       "True"
      ]
     },
     "execution_count": 54,
     "metadata": {},
     "output_type": "execute_result"
    }
   ],
   "source": [
    "nltk.download('stopwords')"
   ]
  },
  {
   "cell_type": "code",
   "execution_count": 55,
   "metadata": {},
   "outputs": [
    {
     "name": "stderr",
     "output_type": "stream",
     "text": [
      "[nltk_data] Downloading package punkt to\n",
      "[nltk_data]     C:\\Users\\Acer\\AppData\\Roaming\\nltk_data...\n",
      "[nltk_data]   Package punkt is already up-to-date!\n",
      "[nltk_data] Downloading package wordnet to\n",
      "[nltk_data]     C:\\Users\\Acer\\AppData\\Roaming\\nltk_data...\n",
      "[nltk_data]   Package wordnet is already up-to-date!\n"
     ]
    },
    {
     "data": {
      "text/plain": [
       "True"
      ]
     },
     "execution_count": 55,
     "metadata": {},
     "output_type": "execute_result"
    }
   ],
   "source": [
    "nltk.download('punkt')\n",
    "nltk.download('wordnet')"
   ]
  },
  {
   "cell_type": "markdown",
   "metadata": {},
   "source": [
    "### Utility methods for text preprocessing"
   ]
  },
  {
   "cell_type": "code",
   "execution_count": 56,
   "metadata": {},
   "outputs": [],
   "source": [
    "ls = LancasterStemmer()\n",
    "lem = WordNetLemmatizer()\n",
    "stop_words = stopwords.words('english')\n",
    "\n",
    "def normalize(text):\n",
    "   words = word_tokenize(text) \n",
    "   words = [w for w in words if not w in stop_words]\n",
    "\n",
    "   stemw = [ls.stem(w) for w in words]\n",
    "   \n",
    "   # 2- Lemmatization\n",
    "   lemw = [lem.lemmatize(w) for w in stemw]\n",
    "   return ' '.join(lemw)\n",
    "\n",
    "def get_preprocessed_data(data):\n",
    "    data = data.apply(normalize)\n",
    "    return data"
   ]
  },
  {
   "cell_type": "code",
   "execution_count": 57,
   "metadata": {},
   "outputs": [
    {
     "data": {
      "text/plain": [
       "'thi process , howev , afford mean ascertain dimend dungeon ; i might mak circuit , return point whent i set , without aw fact ; perfect uniform seem wal .'"
      ]
     },
     "execution_count": 57,
     "metadata": {},
     "output_type": "execute_result"
    }
   ],
   "source": [
    "normalize(x_train[0])"
   ]
  },
  {
   "cell_type": "markdown",
   "metadata": {},
   "source": [
    "### Sequential preprocessing"
   ]
  },
  {
   "cell_type": "code",
   "execution_count": 58,
   "metadata": {},
   "outputs": [
    {
     "name": "stdout",
     "output_type": "stream",
     "text": [
      "Time taken by sequential pre_processing of training data: 6.91552209854126 seconds\n"
     ]
    }
   ],
   "source": [
    "start_preprocess = time.time()\n",
    "x_train_preprocessed = get_preprocessed_data(x_train)\n",
    "end_preprocess = time.time()\n",
    "time_preprocess_seq = end_preprocess - start_preprocess\n",
    "print('Time taken by sequential pre_processing of training data: {} seconds'.format(time_preprocess_seq))"
   ]
  },
  {
   "cell_type": "markdown",
   "metadata": {},
   "source": [
    "### Parallel preprocessing"
   ]
  },
  {
   "cell_type": "code",
   "execution_count": 60,
   "metadata": {},
   "outputs": [
    {
     "name": "stderr",
     "output_type": "stream",
     "text": [
      "[Parallel(n_jobs=4)]: Using backend LokyBackend with 4 concurrent workers.\n",
      "[Parallel(n_jobs=4)]: Done   1 tasks      | elapsed:    1.8s\n",
      "[Parallel(n_jobs=4)]: Done   2 out of   4 | elapsed:    1.9s remaining:    1.9s\n"
     ]
    },
    {
     "name": "stdout",
     "output_type": "stream",
     "text": [
      "Time taken by parallellizing pre_processing of training data: 2.296858787536621 seconds\n"
     ]
    },
    {
     "name": "stderr",
     "output_type": "stream",
     "text": [
      "[Parallel(n_jobs=4)]: Done   4 out of   4 | elapsed:    2.2s remaining:    0.0s\n",
      "[Parallel(n_jobs=4)]: Done   4 out of   4 | elapsed:    2.2s finished\n"
     ]
    }
   ],
   "source": [
    "start_preprocess = time.time()\n",
    "x_train_preprocessed = np.hstack(Parallel(n_jobs=4, backend='loky', verbose=10)\\\n",
    "                            (delayed(get_preprocessed_data)(data) for data in next_chunk(x_train)))\n",
    "\n",
    "end_preprocess = time.time()\n",
    "time_preprocess_par = end_preprocess - start_preprocess\n",
    "print('Time taken by parallellizing pre_processing of training data: {} seconds'.format(time_preprocess_par))"
   ]
  },
  {
   "cell_type": "markdown",
   "metadata": {},
   "source": [
    "### Parallelization helped for pre-processing as seen sbove"
   ]
  },
  {
   "cell_type": "code",
   "execution_count": 61,
   "metadata": {},
   "outputs": [],
   "source": [
    "x_val_preprocessed = get_preprocessed_data(x_val)"
   ]
  },
  {
   "cell_type": "markdown",
   "metadata": {},
   "source": [
    "### TFIDF vectorizer"
   ]
  },
  {
   "cell_type": "code",
   "execution_count": 147,
   "metadata": {},
   "outputs": [
    {
     "data": {
      "text/plain": [
       "TfidfVectorizer(analyzer='word', binary=False, decode_error='strict',\n",
       "        dtype=<class 'numpy.float64'>, encoding='utf-8', input='content',\n",
       "        lowercase=True, max_df=1.0, max_features=None, min_df=3,\n",
       "        ngram_range=(1, 3), norm='l2', preprocessor=None, smooth_idf=1,\n",
       "        stop_words='english', strip_accents='unicode', sublinear_tf=1,\n",
       "        token_pattern='\\\\w{1,}', tokenizer=None, use_idf=1,\n",
       "        vocabulary=None)"
      ]
     },
     "execution_count": 147,
     "metadata": {},
     "output_type": "execute_result"
    }
   ],
   "source": [
    "tfidf_vectorizer = TfidfVectorizer(min_df=3,  max_features=None, \n",
    "            strip_accents='unicode', analyzer='word',token_pattern=r'\\w{1,}',\n",
    "            ngram_range=(1, 3), use_idf=1,smooth_idf=1,sublinear_tf=1,\n",
    "            stop_words = 'english')\n",
    "tfidf_vectorizer.fit(x_train_preprocessed)"
   ]
  },
  {
   "cell_type": "markdown",
   "metadata": {},
   "source": [
    "### Sequential TFIDF"
   ]
  },
  {
   "cell_type": "code",
   "execution_count": 148,
   "metadata": {},
   "outputs": [
    {
     "name": "stdout",
     "output_type": "stream",
     "text": [
      "Time taken by sequential tfidf calculation of training data: 0.39216184616088867 seconds\n"
     ]
    }
   ],
   "source": [
    "start_tfidf = time.time()\n",
    "x_train_prep_tfidf = tfidf_vectorizer.transform(x_train_preprocessed)\n",
    "end_tfidf = time.time()\n",
    "time_tfidf_seq = end_tfidf - start_tfidf\n",
    "print('Time taken by sequential tfidf calculation of training data: {} seconds'.format(time_tfidf_seq))"
   ]
  },
  {
   "cell_type": "markdown",
   "metadata": {},
   "source": [
    "### Parallel TFIDF"
   ]
  },
  {
   "cell_type": "code",
   "execution_count": 150,
   "metadata": {},
   "outputs": [
    {
     "name": "stderr",
     "output_type": "stream",
     "text": [
      "[Parallel(n_jobs=4)]: Using backend LokyBackend with 4 concurrent workers.\n",
      "[Parallel(n_jobs=4)]: Done   1 tasks      | elapsed:    1.3s\n",
      "[Parallel(n_jobs=4)]: Done   2 out of   4 | elapsed:    2.5s remaining:    2.5s\n"
     ]
    },
    {
     "name": "stdout",
     "output_type": "stream",
     "text": [
      "Time taken by parallel tfidf calculation of training data: 4.662719249725342 seconds\n"
     ]
    },
    {
     "name": "stderr",
     "output_type": "stream",
     "text": [
      "[Parallel(n_jobs=4)]: Done   4 out of   4 | elapsed:    4.6s remaining:    0.0s\n",
      "[Parallel(n_jobs=4)]: Done   4 out of   4 | elapsed:    4.6s finished\n"
     ]
    }
   ],
   "source": [
    "start_tfidf = time.time()\n",
    "x_train_prep_tfidf = sp_vstack(Parallel(n_jobs=4, backend='loky', verbose=10)\\\n",
    "                            (delayed(tfidf_vectorizer.transform)(data) for data in next_chunk(x_train_preprocessed)))\n",
    "\n",
    "end_tfidf = time.time()\n",
    "time_tfidf_par = end_tfidf - start_tfidf\n",
    "print('Time taken by parallel tfidf calculation of training data: {} seconds'.format(time_tfidf_par))"
   ]
  },
  {
   "cell_type": "markdown",
   "metadata": {},
   "source": [
    "### Parallelization did not help for the tfidf calculation."
   ]
  },
  {
   "cell_type": "code",
   "execution_count": 151,
   "metadata": {},
   "outputs": [],
   "source": [
    "x_val_prep_tfidf = tfidf_vectorizer.transform(x_val_preprocessed)"
   ]
  },
  {
   "cell_type": "markdown",
   "metadata": {},
   "source": [
    "### Shallow models"
   ]
  },
  {
   "cell_type": "markdown",
   "metadata": {},
   "source": [
    "### Logistic Regression"
   ]
  },
  {
   "cell_type": "code",
   "execution_count": 63,
   "metadata": {},
   "outputs": [
    {
     "name": "stderr",
     "output_type": "stream",
     "text": [
      "d:\\envs\\deep_learning\\lib\\site-packages\\sklearn\\linear_model\\logistic.py:432: FutureWarning: Default solver will be changed to 'lbfgs' in 0.22. Specify a solver to silence this warning.\n",
      "  FutureWarning)\n",
      "d:\\envs\\deep_learning\\lib\\site-packages\\sklearn\\linear_model\\logistic.py:459: FutureWarning: Default multi_class will be changed to 'auto' in 0.22. Specify the multi_class option to silence this warning.\n",
      "  \"this warning.\", FutureWarning)\n"
     ]
    },
    {
     "data": {
      "text/plain": [
       "LogisticRegression(C=11.0, class_weight=None, dual=False, fit_intercept=True,\n",
       "          intercept_scaling=1, max_iter=100, multi_class='warn',\n",
       "          n_jobs=None, penalty='l2', random_state=None, solver='warn',\n",
       "          tol=0.0001, verbose=0, warm_start=False)"
      ]
     },
     "execution_count": 63,
     "metadata": {},
     "output_type": "execute_result"
    }
   ],
   "source": [
    "logreg_model = LogisticRegression(C=11.0)\n",
    "logreg_model.fit(x_train_prep_tfidf, y_train)"
   ]
  },
  {
   "cell_type": "code",
   "execution_count": 64,
   "metadata": {},
   "outputs": [
    {
     "data": {
      "text/plain": [
       "0.7913687436159347"
      ]
     },
     "execution_count": 64,
     "metadata": {},
     "output_type": "execute_result"
    }
   ],
   "source": [
    "logreg_model.score(x_val_prep_tfidf, y_val)"
   ]
  },
  {
   "cell_type": "markdown",
   "metadata": {},
   "source": [
    "## Naive Bayes"
   ]
  },
  {
   "cell_type": "code",
   "execution_count": 65,
   "metadata": {},
   "outputs": [
    {
     "data": {
      "text/plain": [
       "MultinomialNB(alpha=1.0, class_prior=None, fit_prior=True)"
      ]
     },
     "execution_count": 65,
     "metadata": {},
     "output_type": "execute_result"
    }
   ],
   "source": [
    "nb_model = MultinomialNB()\n",
    "nb_model.fit(x_train_prep_tfidf, y_train)"
   ]
  },
  {
   "cell_type": "code",
   "execution_count": 66,
   "metadata": {},
   "outputs": [
    {
     "data": {
      "text/plain": [
       "0.7911133810010215"
      ]
     },
     "execution_count": 66,
     "metadata": {},
     "output_type": "execute_result"
    }
   ],
   "source": [
    "nb_model.score(x_val_prep_tfidf, y_val)"
   ]
  },
  {
   "cell_type": "markdown",
   "metadata": {},
   "source": [
    "## Random Forest"
   ]
  },
  {
   "cell_type": "code",
   "execution_count": 67,
   "metadata": {},
   "outputs": [],
   "source": [
    "rfmodel = RandomForestClassifier(n_estimators=100, random_state=1, min_samples_leaf=3, n_jobs=1)"
   ]
  },
  {
   "cell_type": "code",
   "execution_count": 68,
   "metadata": {},
   "outputs": [
    {
     "data": {
      "text/plain": [
       "RandomForestClassifier(bootstrap=True, class_weight=None, criterion='gini',\n",
       "            max_depth=None, max_features='auto', max_leaf_nodes=None,\n",
       "            min_impurity_decrease=0.0, min_impurity_split=None,\n",
       "            min_samples_leaf=3, min_samples_split=2,\n",
       "            min_weight_fraction_leaf=0.0, n_estimators=100, n_jobs=1,\n",
       "            oob_score=False, random_state=1, verbose=0, warm_start=False)"
      ]
     },
     "execution_count": 68,
     "metadata": {},
     "output_type": "execute_result"
    }
   ],
   "source": [
    "rfmodel.fit(x_train_prep_tfidf, y_train)"
   ]
  },
  {
   "cell_type": "code",
   "execution_count": 69,
   "metadata": {},
   "outputs": [
    {
     "data": {
      "text/plain": [
       "0.7017364657814096"
      ]
     },
     "execution_count": 69,
     "metadata": {},
     "output_type": "execute_result"
    }
   ],
   "source": [
    "rfmodel.score(x_val_prep_tfidf, y_val)"
   ]
  },
  {
   "cell_type": "markdown",
   "metadata": {},
   "source": [
    "### Train the 3 models (Logistic Regression, Naive Bayes and Random Forest) sequentially"
   ]
  },
  {
   "cell_type": "code",
   "execution_count": 87,
   "metadata": {},
   "outputs": [
    {
     "name": "stderr",
     "output_type": "stream",
     "text": [
      "d:\\envs\\deep_learning\\lib\\site-packages\\sklearn\\linear_model\\logistic.py:432: FutureWarning: Default solver will be changed to 'lbfgs' in 0.22. Specify a solver to silence this warning.\n",
      "  FutureWarning)\n",
      "d:\\envs\\deep_learning\\lib\\site-packages\\sklearn\\linear_model\\logistic.py:459: FutureWarning: Default multi_class will be changed to 'auto' in 0.22. Specify the multi_class option to silence this warning.\n",
      "  \"this warning.\", FutureWarning)\n"
     ]
    },
    {
     "name": "stdout",
     "output_type": "stream",
     "text": [
      "Time taken by sequential run of ensemble model: 4.455329418182373 seconds\n"
     ]
    }
   ],
   "source": [
    "models = [logreg_model, rfmodel, nb_model]\n",
    "\n",
    "def fit_and_evaluate_model(model, x_train, y_train, x_val, y_val):\n",
    "    model.fit(x_train, y_train)\n",
    "    probs = model.predict_proba(x_val)\n",
    "    score = model.score(x_val, y_val)\n",
    "    return probs, score\n",
    "\n",
    "start_ensemble = time.time()\n",
    "results = []\n",
    "for model in models:\n",
    "    results.append(fit_and_evaluate_model(model, x_train_prep_tfidf, y_train, x_val_prep_tfidf, y_val))\n",
    "end_ensemble = time.time()\n",
    "time_ensemble_seq = end_ensemble - start_ensemble\n",
    "print('Time taken by sequential run of ensemble model: {} seconds'.format(time_ensemble_seq))"
   ]
  },
  {
   "cell_type": "markdown",
   "metadata": {},
   "source": [
    "## Now Parallellize the same training"
   ]
  },
  {
   "cell_type": "code",
   "execution_count": 77,
   "metadata": {},
   "outputs": [
    {
     "name": "stdout",
     "output_type": "stream",
     "text": [
      "Time taken by parallel run of ensemble model: 3.4047114849090576 seconds\n"
     ]
    }
   ],
   "source": [
    "start_ensemble = time.time()\n",
    "results = Parallel(n_jobs=3, backend='loky', verbose=0)\\\n",
    "                            (delayed(fit_and_evaluate_model)(model, x_train_prep_tfidf, y_train, x_val_prep_tfidf, y_val) \\\n",
    "                             for model in models)\n",
    "end_ensemble = time.time()\n",
    "time_ensemble_par = end_ensemble - start_ensemble\n",
    "print('Time taken by parallel run of ensemble model: {} seconds'.format(time_ensemble_par))"
   ]
  },
  {
   "cell_type": "markdown",
   "metadata": {},
   "source": [
    "### Parallelization helped for the ensemble model run."
   ]
  },
  {
   "cell_type": "markdown",
   "metadata": {},
   "source": [
    "## Deep Neural models"
   ]
  },
  {
   "cell_type": "markdown",
   "metadata": {},
   "source": [
    "### Sequential reading of the embeddings file"
   ]
  },
  {
   "cell_type": "code",
   "execution_count": 91,
   "metadata": {},
   "outputs": [
    {
     "name": "stdout",
     "output_type": "stream",
     "text": [
      "Time taken by sequential embeddings read: 153.56502962112427 seconds\n"
     ]
    }
   ],
   "source": [
    "# The code for utility function read_embeddings is taken from:\n",
    "# https://github.com/fchollet/deep-learning-with-python-notebooks/blob/master/6.1-using-word-embeddings.ipynb\n",
    "def read_embeddings(file):\n",
    "    embeddings_index = {}\n",
    "    with open(file, encoding=\"utf8\") as f:\n",
    "       for line in f:\n",
    "           values = line.split(' ')\n",
    "           word = values[0]\n",
    "           coefs = np.asarray(values[1:], dtype='float32')\n",
    "           embeddings_index[word] = coefs\n",
    "    return embeddings_index\n",
    "\n",
    "start_embedding = time.time()\n",
    "read_embeddings('glove.840B.300d.txt')\n",
    "end_embedding = time.time()\n",
    "time_embedding_seq = end_embedding - start_embedding\n",
    "print('Time taken by sequential embeddings read: {} seconds'.format(time_embedding_seq))"
   ]
  },
  {
   "cell_type": "markdown",
   "metadata": {},
   "source": [
    "### The embeddings file is huge in size - almost 5.5 GB. So we have splitted the file into 4 parts so that it can be read in parallel by 4 worker process working on 4 processor cores. \n",
    "### Parallel reading of the embeddings file"
   ]
  },
  {
   "cell_type": "code",
   "execution_count": 94,
   "metadata": {},
   "outputs": [
    {
     "name": "stderr",
     "output_type": "stream",
     "text": [
      "[Parallel(n_jobs=4)]: Using backend LokyBackend with 4 concurrent workers.\n",
      "[Parallel(n_jobs=4)]: Done   1 tasks      | elapsed:  2.1min\n",
      "[Parallel(n_jobs=4)]: Done   2 out of   4 | elapsed:  2.2min remaining:  2.2min\n",
      "[Parallel(n_jobs=4)]: Done   4 out of   4 | elapsed:  2.3min remaining:    0.0s\n",
      "[Parallel(n_jobs=4)]: Done   4 out of   4 | elapsed:  2.3min finished\n"
     ]
    },
    {
     "name": "stdout",
     "output_type": "stream",
     "text": [
      "Time taken by parallel embeddings read: 111.45695376396179 seconds\n",
      "Found 2196016 word vectors.\n"
     ]
    }
   ],
   "source": [
    "start_embedding = time.time()\n",
    "files = ['glove_part1.txt', 'glove_part2.txt', 'glove_part3.txt', 'glove_part4.txt']\n",
    "indices = Parallel(n_jobs=4, backend='loky', verbose=10)\\\n",
    "                            (delayed(read_embeddings)(file) for file in files)\n",
    "embeddings_index = {}\n",
    "for index in indices:\n",
    "    embeddings_index.update(index)\n",
    "end_embedding = time.time()\n",
    "\n",
    "#time_embedding_par = end_embedding - start_embedding\n",
    "print('Time taken by parallel embeddings read: {} seconds'.format(time_embedding_par))\n",
    "print('Found %s word vectors.' % len(embeddings_index))"
   ]
  },
  {
   "cell_type": "markdown",
   "metadata": {},
   "source": [
    "### Parallelization helped for reading embeddings file"
   ]
  },
  {
   "cell_type": "markdown",
   "metadata": {},
   "source": [
    "### Tokenization with keras"
   ]
  },
  {
   "cell_type": "code",
   "execution_count": 98,
   "metadata": {},
   "outputs": [
    {
     "name": "stdout",
     "output_type": "stream",
     "text": [
      "Found 11776 unique tokens.\n"
     ]
    }
   ],
   "source": [
    "max_len = 100\n",
    "#max_words = 10000\n",
    "# using keras tokenizer here\n",
    "tokenizer = text.Tokenizer(num_words=None)\n",
    "tokenizer.fit_on_texts(x_train_preprocessed)\n",
    "word_index = tokenizer.word_index\n",
    "print('Found %s unique tokens.' % len(word_index))"
   ]
  },
  {
   "cell_type": "markdown",
   "metadata": {},
   "source": [
    "### Build embedding matrix"
   ]
  },
  {
   "cell_type": "code",
   "execution_count": 99,
   "metadata": {},
   "outputs": [],
   "source": [
    "# The code for embedding_matrix is taken from:\n",
    "# https://github.com/fchollet/deep-learning-with-python-notebooks/blob/master/6.1-using-word-embeddings.ipynb\n",
    "embedding_matrix = np.zeros((len(word_index) + 1, 300))\n",
    "for word, i in word_index.items():\n",
    "   embedding_vector = embeddings_index.get(word)\n",
    "   if embedding_vector is not None:\n",
    "       embedding_matrix[i] = embedding_vector"
   ]
  },
  {
   "cell_type": "markdown",
   "metadata": {},
   "source": [
    "### Utility method for sequencing senteces"
   ]
  },
  {
   "cell_type": "code",
   "execution_count": 100,
   "metadata": {},
   "outputs": [],
   "source": [
    "def get_sequence_data(data):\n",
    "   data = tokenizer.texts_to_sequences(data)\n",
    "   # zero pad the sequences\n",
    "   data = sequence.pad_sequences(data, maxlen=max_len)\n",
    "   return data"
   ]
  },
  {
   "cell_type": "markdown",
   "metadata": {},
   "source": [
    "### Sequential execution of sentence sequencing"
   ]
  },
  {
   "cell_type": "code",
   "execution_count": 101,
   "metadata": {},
   "outputs": [
    {
     "name": "stdout",
     "output_type": "stream",
     "text": [
      "Time taken by sequential tokenization and sequencing: 33.29940700531006 seconds\n"
     ]
    }
   ],
   "source": [
    "start_sequence = time.time()\n",
    "x_train_sequence = get_sequence_data(x_train_preprocessed)\n",
    "end_sequence = time.time()\n",
    "time_sequence_seq = end_sequence - start_sequence\n",
    "print('Time taken by sequential tokenization and sequencing: {} seconds'.format(end - start))"
   ]
  },
  {
   "cell_type": "markdown",
   "metadata": {},
   "source": [
    "### Parallel execution of sentence sequencing"
   ]
  },
  {
   "cell_type": "code",
   "execution_count": 102,
   "metadata": {},
   "outputs": [
    {
     "name": "stderr",
     "output_type": "stream",
     "text": [
      "[Parallel(n_jobs=4)]: Using backend LokyBackend with 4 concurrent workers.\n"
     ]
    },
    {
     "name": "stdout",
     "output_type": "stream",
     "text": [
      "Time taken by parallel tokenization and sequencing: 24.17801570892334 seconds\n"
     ]
    },
    {
     "name": "stderr",
     "output_type": "stream",
     "text": [
      "[Parallel(n_jobs=4)]: Done   1 tasks      | elapsed:   24.0s\n",
      "[Parallel(n_jobs=4)]: Done   2 out of   4 | elapsed:   24.0s remaining:   24.0s\n",
      "[Parallel(n_jobs=4)]: Done   4 out of   4 | elapsed:   24.1s remaining:    0.0s\n",
      "[Parallel(n_jobs=4)]: Done   4 out of   4 | elapsed:   24.1s finished\n"
     ]
    }
   ],
   "source": [
    "start_sequence = time.time()\n",
    "x_train_sequence = np.vstack(Parallel(n_jobs=4, backend='loky', verbose=10)\\\n",
    "                            (delayed(get_sequence_data)(data) for data in next_chunk(x_train_preprocessed)))\n",
    "end_sequence = time.time()\n",
    "time_sequence_par = end_sequence - start_sequence\n",
    "print('Time taken by parallel tokenization and sequencing: {} seconds'.format(end - start))"
   ]
  },
  {
   "cell_type": "markdown",
   "metadata": {},
   "source": [
    "### Parallelization helped for tokenizing and sequencing."
   ]
  },
  {
   "cell_type": "code",
   "execution_count": 106,
   "metadata": {},
   "outputs": [],
   "source": [
    "x_val_sequence = get_sequence_data(x_val_preprocessed)"
   ]
  },
  {
   "cell_type": "code",
   "execution_count": 108,
   "metadata": {},
   "outputs": [],
   "source": [
    "y_train_enc = np_utils.to_categorical(y_train)\n",
    "y_val_enc = np_utils.to_categorical(y_val)"
   ]
  },
  {
   "cell_type": "markdown",
   "metadata": {},
   "source": [
    "### Definition of neural models (RNN with LSTM)"
   ]
  },
  {
   "cell_type": "code",
   "execution_count": 132,
   "metadata": {},
   "outputs": [],
   "source": [
    "def nn_model(dropout=0.3):\n",
    "    model = Sequential()\n",
    "    model.add(Embedding(len(word_index) + 1,\n",
    "                        300,\n",
    "                        weights=[embedding_matrix],\n",
    "                        input_length=max_len,\n",
    "                        trainable=False))\n",
    "    model.add(SpatialDropout1D(0.3))\n",
    "    model.add(LSTM(100, dropout=dropout, recurrent_dropout=dropout))\n",
    "\n",
    "    model.add(Dense(1024, activation='relu'))\n",
    "    model.add(Dropout(dropout))\n",
    "\n",
    "    model.add(Dense(1024, activation='relu'))\n",
    "    model.add(Dropout(dropout))\n",
    "\n",
    "    model.add(Dense(3))\n",
    "    model.add(Activation('softmax'))\n",
    "    model.compile(loss='categorical_crossentropy', optimizer='adam', metrics=['accuracy'])\n",
    "    return model\n",
    "\n",
    "def fit_and_evaluate_nn_model(model, x_train, y_train, x_val, y_val, batch_size=512):\n",
    "    model.fit(x_train, y=y_train, batch_size=batch_size, epochs=10, verbose=1)\n",
    "    probs = model.predict(x_val)\n",
    "    _, score = model.evaluate(x_val, y_val)\n",
    "    return probs, score\n",
    "\n",
    "def get_nn_models():\n",
    "    return [nn_model(0.3), nn_model(0.4), nn_model(0.5)]"
   ]
  },
  {
   "cell_type": "markdown",
   "metadata": {},
   "source": [
    "### Sequential execution of the training of 3 different neural models (with 3 different dropout rates)"
   ]
  },
  {
   "cell_type": "code",
   "execution_count": 134,
   "metadata": {},
   "outputs": [
    {
     "name": "stdout",
     "output_type": "stream",
     "text": [
      "Epoch 1/10\n",
      "15663/15663 [==============================] - 57s 4ms/step - loss: 1.0283 - acc: 0.4702\n",
      "Epoch 2/10\n",
      "15663/15663 [==============================] - 60s 4ms/step - loss: 0.9346 - acc: 0.5542\n",
      "Epoch 3/10\n",
      "15663/15663 [==============================] - 62s 4ms/step - loss: 0.8983 - acc: 0.5849\n",
      "Epoch 4/10\n",
      "15663/15663 [==============================] - 65s 4ms/step - loss: 0.8811 - acc: 0.5974\n",
      "Epoch 5/10\n",
      "15663/15663 [==============================] - 63s 4ms/step - loss: 0.8642 - acc: 0.6006\n",
      "Epoch 6/10\n",
      "15663/15663 [==============================] - 61s 4ms/step - loss: 0.8478 - acc: 0.6156\n",
      "Epoch 7/10\n",
      "15663/15663 [==============================] - 61s 4ms/step - loss: 0.8182 - acc: 0.6296\n",
      "Epoch 8/10\n",
      "15663/15663 [==============================] - 62s 4ms/step - loss: 0.8076 - acc: 0.6342\n",
      "Epoch 9/10\n",
      "15663/15663 [==============================] - 63s 4ms/step - loss: 0.7814 - acc: 0.6553\n",
      "Epoch 10/10\n",
      "15663/15663 [==============================] - 63s 4ms/step - loss: 0.7573 - acc: 0.6693\n",
      "3916/3916 [==============================] - 7s 2ms/step\n",
      "Epoch 1/10\n",
      "15663/15663 [==============================] - 63s 4ms/step - loss: 1.0500 - acc: 0.4415\n",
      "Epoch 2/10\n",
      "15663/15663 [==============================] - 62s 4ms/step - loss: 0.9634 - acc: 0.5339\n",
      "Epoch 3/10\n",
      "15663/15663 [==============================] - 60s 4ms/step - loss: 0.9256 - acc: 0.5650\n",
      "Epoch 4/10\n",
      "15663/15663 [==============================] - 62s 4ms/step - loss: 0.9115 - acc: 0.5713\n",
      "Epoch 5/10\n",
      "15663/15663 [==============================] - 63s 4ms/step - loss: 0.8938 - acc: 0.5885\n",
      "Epoch 6/10\n",
      "15663/15663 [==============================] - 62s 4ms/step - loss: 0.8763 - acc: 0.5978\n",
      "Epoch 7/10\n",
      "15663/15663 [==============================] - 62s 4ms/step - loss: 0.8637 - acc: 0.6026\n",
      "Epoch 8/10\n",
      "15663/15663 [==============================] - 61s 4ms/step - loss: 0.8476 - acc: 0.6168\n",
      "Epoch 9/10\n",
      "15663/15663 [==============================] - 63s 4ms/step - loss: 0.8289 - acc: 0.6256\n",
      "Epoch 10/10\n",
      "15663/15663 [==============================] - 61s 4ms/step - loss: 0.8076 - acc: 0.6379\n",
      "3916/3916 [==============================] - 7s 2ms/step\n",
      "Epoch 1/10\n",
      "15663/15663 [==============================] - 62s 4ms/step - loss: 1.0600 - acc: 0.4328\n",
      "Epoch 2/10\n",
      "15663/15663 [==============================] - 63s 4ms/step - loss: 0.9921 - acc: 0.5035\n",
      "Epoch 3/10\n",
      "15663/15663 [==============================] - 67s 4ms/step - loss: 0.9573 - acc: 0.5351\n",
      "Epoch 4/10\n",
      "15663/15663 [==============================] - 64s 4ms/step - loss: 0.9388 - acc: 0.5534\n",
      "Epoch 5/10\n",
      "15663/15663 [==============================] - 62s 4ms/step - loss: 0.9318 - acc: 0.5650\n",
      "Epoch 6/10\n",
      "15663/15663 [==============================] - 66s 4ms/step - loss: 0.9195 - acc: 0.5683\n",
      "Epoch 7/10\n",
      "15663/15663 [==============================] - 63s 4ms/step - loss: 0.9078 - acc: 0.5782\n",
      "Epoch 8/10\n",
      "15663/15663 [==============================] - 61s 4ms/step - loss: 0.8905 - acc: 0.5876\n",
      "Epoch 9/10\n",
      "15663/15663 [==============================] - 61s 4ms/step - loss: 0.8765 - acc: 0.6003\n",
      "Epoch 10/10\n",
      "15663/15663 [==============================] - 63s 4ms/step - loss: 0.8675 - acc: 0.6021\n",
      "3916/3916 [==============================] - 7s 2ms/step\n",
      "Time taken by sequential training of 3 models: 2127.9264843463898 seconds\n"
     ]
    }
   ],
   "source": [
    "start_ensemble_nn = time.time()\n",
    "nn_results = []\n",
    "models_seq = get_nn_models()\n",
    "for model in models_seq:\n",
    "    nn_results.append(fit_and_evaluate_nn_model(model, x_train_sequence, y_train_enc, x_val_sequence, y_val_enc))\n",
    "end_ensemble_nn = time.time()\n",
    "time_ensemble_nn_seq = end_ensemble_nn - start_ensemble_nn\n",
    "print('Time taken by sequential training of 3 models: {} seconds'.format(time_ensemble_nn_seq))"
   ]
  },
  {
   "cell_type": "markdown",
   "metadata": {},
   "source": [
    "### Parallel execution of the training of same 3 models above"
   ]
  },
  {
   "cell_type": "code",
   "execution_count": 135,
   "metadata": {},
   "outputs": [
    {
     "name": "stderr",
     "output_type": "stream",
     "text": [
      "[Parallel(n_jobs=3)]: Using backend LokyBackend with 3 concurrent workers.\n"
     ]
    },
    {
     "name": "stdout",
     "output_type": "stream",
     "text": [
      "Time taken by parallellizing training of 3 models: 809.9761328697205 seconds\n"
     ]
    },
    {
     "name": "stderr",
     "output_type": "stream",
     "text": [
      "[Parallel(n_jobs=3)]: Done   3 out of   3 | elapsed: 13.8min finished\n"
     ]
    }
   ],
   "source": [
    "start_ensemble_nn = time.time()\n",
    "models_par = get_nn_models()\n",
    "nn_results = Parallel(n_jobs=3, backend='loky', verbose=1)\\\n",
    "                            (delayed(fit_and_evaluate_nn_model)(model, x_train_sequence, y_train_enc, \n",
    "                                                                x_val_sequence, y_val_enc) \\\n",
    "                             for model in models_par)\n",
    "end_ensemble_nn = time.time()\n",
    "time_ensemble_nn_par = end_ensemble_nn - start_ensemble_nn\n",
    "print('Time taken by parallellizing training of 3 models: {} seconds'.format(time_ensemble_nn_par))"
   ]
  },
  {
   "cell_type": "markdown",
   "metadata": {},
   "source": [
    "### Parallelization helped for neural model ensembling"
   ]
  },
  {
   "cell_type": "code",
   "execution_count": 124,
   "metadata": {},
   "outputs": [
    {
     "data": {
      "text/plain": [
       "2127.9264843463898"
      ]
     },
     "execution_count": 124,
     "metadata": {},
     "output_type": "execute_result"
    }
   ],
   "source": [
    "time_ensemble_nn_seq"
   ]
  },
  {
   "cell_type": "code",
   "execution_count": 125,
   "metadata": {},
   "outputs": [
    {
     "data": {
      "text/plain": [
       "809.9761328697205"
      ]
     },
     "execution_count": 125,
     "metadata": {},
     "output_type": "execute_result"
    }
   ],
   "source": [
    "time_ensemble_nn_par"
   ]
  },
  {
   "cell_type": "markdown",
   "metadata": {},
   "source": [
    "## Generate Results for test data"
   ]
  },
  {
   "cell_type": "markdown",
   "metadata": {},
   "source": [
    "### Preprocess the test data"
   ]
  },
  {
   "cell_type": "code",
   "execution_count": 129,
   "metadata": {},
   "outputs": [],
   "source": [
    "x_test = test_set['text']\n",
    "x_test_preprocessed = get_preprocessed_data(x_test)\n",
    "x_test_prep_tfidf = tfidf_vectorizer.transform(x_test_preprocessed)\n",
    "x_test_sequence = get_sequence_data(x_test_preprocessed)"
   ]
  },
  {
   "cell_type": "markdown",
   "metadata": {},
   "source": [
    "### Sequential execution of probability prediction of the 6 models we got so far (3 shallow and 3 deep neural)"
   ]
  },
  {
   "cell_type": "code",
   "execution_count": 143,
   "metadata": {},
   "outputs": [
    {
     "name": "stdout",
     "output_type": "stream",
     "text": [
      "Time taken by sequential ensemble result calculation: 35.67901802062988 seconds\n"
     ]
    }
   ],
   "source": [
    "start_ensemble_result = time.time()\n",
    "ensemble_probs = models[0].predict_proba(x_test_prep_tfidf)\n",
    "for model in models[1:]:\n",
    "    ensemble_probs += model.predict_proba(x_test_prep_tfidf)\n",
    "for model in models_par:\n",
    "    ensemble_probs += model.predict(x_test_sequence)\n",
    "ensemble_probs /= 6\n",
    "end_ensemble_result = time.time()\n",
    "time_ensemble_result_seq = end_ensemble_result - start_ensemble_result\n",
    "print('Time taken by sequential ensemble result calculation: {} seconds'.format(time_ensemble_result_seq))"
   ]
  },
  {
   "cell_type": "markdown",
   "metadata": {},
   "source": [
    "### Parallel execution of probability prediction of the 6 models we got so far (3 shallow and 3 deep neural). We let the shallow models still predict sequentiall since they are pretty fast and parallelization doesn't help too much. However we run the deep models' predicition in parallel."
   ]
  },
  {
   "cell_type": "code",
   "execution_count": 156,
   "metadata": {},
   "outputs": [
    {
     "name": "stderr",
     "output_type": "stream",
     "text": [
      "[Parallel(n_jobs=3)]: Using backend LokyBackend with 3 concurrent workers.\n"
     ]
    },
    {
     "name": "stdout",
     "output_type": "stream",
     "text": [
      "Time taken by parallel ensemble result calculation: 14.850965023040771 seconds\n"
     ]
    },
    {
     "name": "stderr",
     "output_type": "stream",
     "text": [
      "[Parallel(n_jobs=3)]: Done   3 out of   3 | elapsed:   14.3s finished\n"
     ]
    }
   ],
   "source": [
    "start_ensemble_result = time.time()\n",
    "\n",
    "ensemble_probs = models[0].predict_proba(x_test_prep_tfidf)\n",
    "for model in models[1:]:\n",
    "    ensemble_probs += model.predict_proba(x_test_prep_tfidf)\n",
    "    \n",
    "ensemble_results_deep = Parallel(n_jobs=3, backend='loky', verbose=1)\\\n",
    "                            (delayed(model.predict)(x_test_sequence) \\\n",
    "                             for model in models_par)\n",
    "for result in ensemble_results_deep:\n",
    "    ensemble_probs +=result\n",
    "ensemble_probs /= 6\n",
    "\n",
    "end_ensemble_result = time.time()\n",
    "time_ensemble_result_par = end_ensemble_result - start_ensemble_result\n",
    "print('Time taken by parallel ensemble result calculation: {} seconds'.format(time_ensemble_result_par))"
   ]
  },
  {
   "cell_type": "markdown",
   "metadata": {},
   "source": [
    "### Parallelization of the neural models helped improving performance"
   ]
  },
  {
   "cell_type": "markdown",
   "metadata": {},
   "source": [
    "### Our most significant performance gain came with parallelizing the deep model training step. We will try to visualize it more deeply using traing data of different sizes."
   ]
  },
  {
   "cell_type": "code",
   "execution_count": 163,
   "metadata": {},
   "outputs": [],
   "source": [
    "sizes = [3000, 6000, 9000, 12000]"
   ]
  },
  {
   "cell_type": "code",
   "execution_count": 164,
   "metadata": {},
   "outputs": [
    {
     "name": "stdout",
     "output_type": "stream",
     "text": [
      "Epoch 1/10\n",
      "3000/3000 [==============================] - 13s 4ms/step - loss: 1.0813 - acc: 0.4173\n",
      "Epoch 2/10\n",
      "3000/3000 [==============================] - 11s 4ms/step - loss: 1.0515 - acc: 0.4663\n",
      "Epoch 3/10\n",
      "3000/3000 [==============================] - 12s 4ms/step - loss: 1.0135 - acc: 0.4800\n",
      "Epoch 4/10\n",
      "3000/3000 [==============================] - 12s 4ms/step - loss: 0.9778 - acc: 0.5213\n",
      "Epoch 5/10\n",
      "3000/3000 [==============================] - 12s 4ms/step - loss: 0.9563 - acc: 0.5337\n",
      "Epoch 6/10\n",
      "3000/3000 [==============================] - 12s 4ms/step - loss: 0.9219 - acc: 0.5593\n",
      "Epoch 7/10\n",
      "3000/3000 [==============================] - 13s 4ms/step - loss: 0.9195 - acc: 0.5603\n",
      "Epoch 8/10\n",
      "3000/3000 [==============================] - 12s 4ms/step - loss: 0.8873 - acc: 0.5787\n",
      "Epoch 9/10\n",
      "3000/3000 [==============================] - 13s 4ms/step - loss: 0.8642 - acc: 0.6010\n",
      "Epoch 10/10\n",
      "3000/3000 [==============================] - 13s 4ms/step - loss: 0.8602 - acc: 0.6073\n",
      "3916/3916 [==============================] - 10s 2ms/step\n",
      "Epoch 1/10\n",
      "3000/3000 [==============================] - 15s 5ms/step - loss: 1.0982 - acc: 0.3960\n",
      "Epoch 2/10\n",
      "3000/3000 [==============================] - 13s 4ms/step - loss: 1.0771 - acc: 0.4220\n",
      "Epoch 3/10\n",
      "3000/3000 [==============================] - 12s 4ms/step - loss: 1.0511 - acc: 0.4370\n",
      "Epoch 4/10\n",
      "3000/3000 [==============================] - 13s 4ms/step - loss: 1.0225 - acc: 0.4867\n",
      "Epoch 5/10\n",
      "3000/3000 [==============================] - 12s 4ms/step - loss: 1.0055 - acc: 0.5027\n",
      "Epoch 6/10\n",
      "3000/3000 [==============================] - 13s 4ms/step - loss: 0.9714 - acc: 0.5213\n",
      "Epoch 7/10\n",
      "3000/3000 [==============================] - 13s 4ms/step - loss: 0.9378 - acc: 0.5410\n",
      "Epoch 8/10\n",
      "3000/3000 [==============================] - 13s 4ms/step - loss: 0.9411 - acc: 0.5477\n",
      "Epoch 9/10\n",
      "3000/3000 [==============================] - 13s 4ms/step - loss: 0.9164 - acc: 0.5663\n",
      "Epoch 10/10\n",
      "3000/3000 [==============================] - 14s 5ms/step - loss: 0.9097 - acc: 0.5790\n",
      "3916/3916 [==============================] - 11s 3ms/step\n",
      "Epoch 1/10\n",
      "3000/3000 [==============================] - 15s 5ms/step - loss: 1.0913 - acc: 0.4160\n",
      "Epoch 2/10\n",
      "3000/3000 [==============================] - 13s 4ms/step - loss: 1.0797 - acc: 0.4130\n",
      "Epoch 3/10\n",
      "3000/3000 [==============================] - 13s 4ms/step - loss: 1.0560 - acc: 0.4417\n",
      "Epoch 4/10\n",
      "3000/3000 [==============================] - 13s 4ms/step - loss: 1.0320 - acc: 0.4780\n",
      "Epoch 5/10\n",
      "3000/3000 [==============================] - 14s 5ms/step - loss: 1.0156 - acc: 0.4880\n",
      "Epoch 6/10\n",
      "3000/3000 [==============================] - 13s 4ms/step - loss: 1.0110 - acc: 0.4993\n",
      "Epoch 7/10\n",
      "3000/3000 [==============================] - 13s 4ms/step - loss: 0.9745 - acc: 0.5377\n",
      "Epoch 8/10\n",
      "3000/3000 [==============================] - 13s 4ms/step - loss: 0.9626 - acc: 0.5367\n",
      "Epoch 9/10\n",
      "3000/3000 [==============================] - 13s 4ms/step - loss: 0.9557 - acc: 0.5307\n",
      "Epoch 10/10\n",
      "3000/3000 [==============================] - 13s 4ms/step - loss: 0.9437 - acc: 0.5450\n",
      "3916/3916 [==============================] - 11s 3ms/step\n",
      "Time taken by sequential training of 3 models with size 3000: 458.0243697166443 seconds\n",
      "Epoch 1/10\n",
      "6000/6000 [==============================] - 28s 5ms/step - loss: 1.0735 - acc: 0.4138\n",
      "Epoch 2/10\n",
      "6000/6000 [==============================] - 27s 4ms/step - loss: 1.0150 - acc: 0.4802\n",
      "Epoch 3/10\n",
      "6000/6000 [==============================] - 26s 4ms/step - loss: 0.9529 - acc: 0.5418\n",
      "Epoch 4/10\n",
      "6000/6000 [==============================] - 26s 4ms/step - loss: 0.9207 - acc: 0.5638\n",
      "Epoch 5/10\n",
      "6000/6000 [==============================] - 26s 4ms/step - loss: 0.8910 - acc: 0.5813\n",
      "Epoch 6/10\n",
      "6000/6000 [==============================] - 27s 4ms/step - loss: 0.8678 - acc: 0.6032\n",
      "Epoch 7/10\n",
      "6000/6000 [==============================] - 27s 4ms/step - loss: 0.8769 - acc: 0.5903\n",
      "Epoch 8/10\n",
      "6000/6000 [==============================] - 26s 4ms/step - loss: 0.8513 - acc: 0.6067\n",
      "Epoch 9/10\n",
      "6000/6000 [==============================] - 26s 4ms/step - loss: 0.8341 - acc: 0.6147\n",
      "Epoch 10/10\n",
      "6000/6000 [==============================] - 27s 4ms/step - loss: 0.8371 - acc: 0.6217\n",
      "3916/3916 [==============================] - 11s 3ms/step\n",
      "Epoch 1/10\n",
      "6000/6000 [==============================] - 30s 5ms/step - loss: 1.0817 - acc: 0.4140\n",
      "Epoch 2/10\n",
      "6000/6000 [==============================] - 27s 4ms/step - loss: 1.0341 - acc: 0.4630\n",
      "Epoch 3/10\n",
      "6000/6000 [==============================] - 28s 5ms/step - loss: 0.9853 - acc: 0.5180\n",
      "Epoch 4/10\n",
      "6000/6000 [==============================] - 27s 5ms/step - loss: 0.9587 - acc: 0.5360\n",
      "Epoch 5/10\n",
      "6000/6000 [==============================] - 27s 5ms/step - loss: 0.9332 - acc: 0.5548\n",
      "Epoch 6/10\n",
      "6000/6000 [==============================] - 27s 5ms/step - loss: 0.9217 - acc: 0.5597\n",
      "Epoch 7/10\n",
      "6000/6000 [==============================] - 28s 5ms/step - loss: 0.9098 - acc: 0.5720\n",
      "Epoch 8/10\n",
      "6000/6000 [==============================] - 27s 5ms/step - loss: 0.8922 - acc: 0.5830\n",
      "Epoch 9/10\n",
      "6000/6000 [==============================] - 27s 5ms/step - loss: 0.8842 - acc: 0.5933\n",
      "Epoch 10/10\n",
      "6000/6000 [==============================] - 28s 5ms/step - loss: 0.8755 - acc: 0.5975\n",
      "3916/3916 [==============================] - 13s 3ms/step\n",
      "Epoch 1/10\n",
      "6000/6000 [==============================] - 31s 5ms/step - loss: 1.0834 - acc: 0.4040\n",
      "Epoch 2/10\n",
      "6000/6000 [==============================] - 28s 5ms/step - loss: 1.0558 - acc: 0.4388\n",
      "Epoch 3/10\n",
      "6000/6000 [==============================] - 28s 5ms/step - loss: 1.0193 - acc: 0.4825\n",
      "Epoch 4/10\n",
      "6000/6000 [==============================] - 28s 5ms/step - loss: 0.9860 - acc: 0.5070\n",
      "Epoch 5/10\n",
      "6000/6000 [==============================] - 28s 5ms/step - loss: 0.9658 - acc: 0.5295\n",
      "Epoch 6/10\n",
      "6000/6000 [==============================] - 28s 5ms/step - loss: 0.9514 - acc: 0.5418\n",
      "Epoch 7/10\n",
      "6000/6000 [==============================] - 27s 5ms/step - loss: 0.9382 - acc: 0.5492\n",
      "Epoch 8/10\n",
      "6000/6000 [==============================] - 28s 5ms/step - loss: 0.9217 - acc: 0.5637\n",
      "Epoch 9/10\n",
      "6000/6000 [==============================] - 28s 5ms/step - loss: 0.9339 - acc: 0.5577\n",
      "Epoch 10/10\n",
      "6000/6000 [==============================] - 28s 5ms/step - loss: 0.9170 - acc: 0.5645\n",
      "3916/3916 [==============================] - 13s 3ms/step\n",
      "Time taken by sequential training of 3 models with size 6000: 910.4481463432312 seconds\n",
      "Epoch 1/10\n",
      "9000/9000 [==============================] - 45s 5ms/step - loss: 1.0662 - acc: 0.4209\n",
      "Epoch 2/10\n",
      "9000/9000 [==============================] - 42s 5ms/step - loss: 0.9885 - acc: 0.5039\n",
      "Epoch 3/10\n",
      "9000/9000 [==============================] - 42s 5ms/step - loss: 0.9296 - acc: 0.5636\n",
      "Epoch 4/10\n",
      "9000/9000 [==============================] - 43s 5ms/step - loss: 0.9061 - acc: 0.5788\n",
      "Epoch 5/10\n",
      "9000/9000 [==============================] - 43s 5ms/step - loss: 0.8850 - acc: 0.5911\n",
      "Epoch 6/10\n",
      "9000/9000 [==============================] - 43s 5ms/step - loss: 0.8679 - acc: 0.6002\n",
      "Epoch 7/10\n",
      "9000/9000 [==============================] - 43s 5ms/step - loss: 0.8500 - acc: 0.6123\n",
      "Epoch 8/10\n",
      "9000/9000 [==============================] - 43s 5ms/step - loss: 0.8568 - acc: 0.6092\n",
      "Epoch 9/10\n",
      "9000/9000 [==============================] - 43s 5ms/step - loss: 0.8241 - acc: 0.6271\n",
      "Epoch 10/10\n",
      "9000/9000 [==============================] - 42s 5ms/step - loss: 0.8163 - acc: 0.6294\n",
      "3916/3916 [==============================] - 14s 4ms/step\n",
      "Epoch 1/10\n",
      "9000/9000 [==============================] - 46s 5ms/step - loss: 1.0699 - acc: 0.4249\n",
      "Epoch 2/10\n",
      "9000/9000 [==============================] - 44s 5ms/step - loss: 0.9969 - acc: 0.5080\n",
      "Epoch 3/10\n",
      "9000/9000 [==============================] - 44s 5ms/step - loss: 0.9648 - acc: 0.5337\n",
      "Epoch 4/10\n",
      "9000/9000 [==============================] - 44s 5ms/step - loss: 0.9359 - acc: 0.5578\n",
      "Epoch 5/10\n",
      "9000/9000 [==============================] - 43s 5ms/step - loss: 0.9147 - acc: 0.5748\n",
      "Epoch 6/10\n",
      "9000/9000 [==============================] - 44s 5ms/step - loss: 0.9044 - acc: 0.5782\n",
      "Epoch 7/10\n",
      "9000/9000 [==============================] - 43s 5ms/step - loss: 0.8827 - acc: 0.5890\n",
      "Epoch 8/10\n",
      "9000/9000 [==============================] - 43s 5ms/step - loss: 0.8804 - acc: 0.5927\n",
      "Epoch 9/10\n",
      "9000/9000 [==============================] - 44s 5ms/step - loss: 0.8668 - acc: 0.6007\n",
      "Epoch 10/10\n",
      "9000/9000 [==============================] - 44s 5ms/step - loss: 0.8581 - acc: 0.6077\n",
      "3916/3916 [==============================] - 13s 3ms/step\n",
      "Epoch 1/10\n",
      "9000/9000 [==============================] - 49s 5ms/step - loss: 1.0837 - acc: 0.3928\n",
      "Epoch 2/10\n",
      "9000/9000 [==============================] - 45s 5ms/step - loss: 1.0298 - acc: 0.4693\n",
      "Epoch 3/10\n",
      "9000/9000 [==============================] - 46s 5ms/step - loss: 0.9915 - acc: 0.5101\n",
      "Epoch 4/10\n",
      "9000/9000 [==============================] - 47s 5ms/step - loss: 0.9696 - acc: 0.5290\n",
      "Epoch 5/10\n",
      "9000/9000 [==============================] - 47s 5ms/step - loss: 0.9510 - acc: 0.5401\n",
      "Epoch 6/10\n",
      "9000/9000 [==============================] - 46s 5ms/step - loss: 0.9338 - acc: 0.5561\n",
      "Epoch 7/10\n",
      "9000/9000 [==============================] - 45s 5ms/step - loss: 0.9313 - acc: 0.5586\n",
      "Epoch 8/10\n",
      "9000/9000 [==============================] - 45s 5ms/step - loss: 0.9134 - acc: 0.5681\n",
      "Epoch 9/10\n",
      "9000/9000 [==============================] - 45s 5ms/step - loss: 0.9131 - acc: 0.5709\n",
      "Epoch 10/10\n",
      "9000/9000 [==============================] - 45s 5ms/step - loss: 0.8996 - acc: 0.5817\n",
      "3916/3916 [==============================] - 14s 4ms/step\n",
      "Time taken by sequential training of 3 models with size 9000: 1454.1849617958069 seconds\n",
      "Epoch 1/10\n",
      "12000/12000 [==============================] - 67s 6ms/step - loss: 1.0566 - acc: 0.4352\n",
      "Epoch 2/10\n",
      "12000/12000 [==============================] - 66s 5ms/step - loss: 0.9582 - acc: 0.5347\n",
      "Epoch 3/10\n",
      "12000/12000 [==============================] - 65s 5ms/step - loss: 0.9108 - acc: 0.5775\n",
      "Epoch 4/10\n",
      "12000/12000 [==============================] - 64s 5ms/step - loss: 0.8880 - acc: 0.5853\n",
      "Epoch 5/10\n",
      "12000/12000 [==============================] - 64s 5ms/step - loss: 0.8684 - acc: 0.6049\n",
      "Epoch 6/10\n",
      "12000/12000 [==============================] - 65s 5ms/step - loss: 0.8522 - acc: 0.6163\n",
      "Epoch 7/10\n",
      "12000/12000 [==============================] - 65s 5ms/step - loss: 0.8432 - acc: 0.6180\n",
      "Epoch 8/10\n",
      "12000/12000 [==============================] - 66s 5ms/step - loss: 0.8203 - acc: 0.6239\n",
      "Epoch 9/10\n",
      "12000/12000 [==============================] - 65s 5ms/step - loss: 0.7975 - acc: 0.6449\n",
      "Epoch 10/10\n",
      "12000/12000 [==============================] - 64s 5ms/step - loss: 0.7801 - acc: 0.6495\n",
      "3916/3916 [==============================] - 17s 4ms/step\n",
      "Epoch 1/10\n",
      "12000/12000 [==============================] - 71s 6ms/step - loss: 1.0585 - acc: 0.4308\n",
      "Epoch 2/10\n",
      "12000/12000 [==============================] - 69s 6ms/step - loss: 0.9818 - acc: 0.5171\n",
      "Epoch 3/10\n",
      "12000/12000 [==============================] - 70s 6ms/step - loss: 0.9306 - acc: 0.5527\n",
      "Epoch 4/10\n",
      "12000/12000 [==============================] - 69s 6ms/step - loss: 0.9136 - acc: 0.5728\n",
      "Epoch 5/10\n",
      "12000/12000 [==============================] - 69s 6ms/step - loss: 0.9044 - acc: 0.5746\n",
      "Epoch 6/10\n",
      "12000/12000 [==============================] - 69s 6ms/step - loss: 0.8874 - acc: 0.5936\n",
      "Epoch 7/10\n",
      "12000/12000 [==============================] - 68s 6ms/step - loss: 0.8765 - acc: 0.5957\n",
      "Epoch 8/10\n",
      "12000/12000 [==============================] - 69s 6ms/step - loss: 0.8637 - acc: 0.6017\n",
      "Epoch 9/10\n",
      "12000/12000 [==============================] - 67s 6ms/step - loss: 0.8464 - acc: 0.6138\n",
      "Epoch 10/10\n",
      "12000/12000 [==============================] - 68s 6ms/step - loss: 0.8312 - acc: 0.6212\n",
      "3916/3916 [==============================] - 23s 6ms/step\n",
      "Epoch 1/10\n",
      "12000/12000 [==============================] - 72s 6ms/step - loss: 1.0760 - acc: 0.4157\n",
      "Epoch 2/10\n",
      "12000/12000 [==============================] - 71s 6ms/step - loss: 1.0075 - acc: 0.4913\n",
      "Epoch 3/10\n",
      "12000/12000 [==============================] - 73s 6ms/step - loss: 0.9700 - acc: 0.5236\n",
      "Epoch 4/10\n",
      "12000/12000 [==============================] - 71s 6ms/step - loss: 0.9551 - acc: 0.5353\n",
      "Epoch 5/10\n",
      "12000/12000 [==============================] - 68s 6ms/step - loss: 0.9449 - acc: 0.5485\n",
      "Epoch 6/10\n",
      "12000/12000 [==============================] - 69s 6ms/step - loss: 0.9286 - acc: 0.5581\n",
      "Epoch 7/10\n",
      "12000/12000 [==============================] - 73s 6ms/step - loss: 0.9167 - acc: 0.5695\n",
      "Epoch 8/10\n",
      "12000/12000 [==============================] - 70s 6ms/step - loss: 0.9081 - acc: 0.5813\n",
      "Epoch 9/10\n",
      "12000/12000 [==============================] - 71s 6ms/step - loss: 0.8981 - acc: 0.5827\n",
      "Epoch 10/10\n",
      "12000/12000 [==============================] - 71s 6ms/step - loss: 0.8828 - acc: 0.5910\n",
      "3916/3916 [==============================] - 27s 7ms/step\n",
      "Time taken by sequential training of 3 models with size 12000: 2253.602767944336 seconds\n"
     ]
    }
   ],
   "source": [
    "times_nn_seq = []\n",
    "for i, size in enumerate(sizes):\n",
    "    start_ensemble_nn = time.time()\n",
    "    models_seqq = get_nn_models()\n",
    "    for model in models_seqq:\n",
    "        fit_and_evaluate_nn_model(model, x_train_sequence[:size], y_train_enc[:size], x_val_sequence, y_val_enc)\n",
    "    end_ensemble_nn = time.time()\n",
    "    times_nn_seq.append(end_ensemble_nn - start_ensemble_nn)\n",
    "    print('Time taken by sequential training of 3 models with size {}: {} seconds'.format(size, times_nn_seq[i]))"
   ]
  },
  {
   "cell_type": "code",
   "execution_count": 166,
   "metadata": {},
   "outputs": [
    {
     "name": "stderr",
     "output_type": "stream",
     "text": [
      "[Parallel(n_jobs=3)]: Using backend LokyBackend with 3 concurrent workers.\n",
      "[Parallel(n_jobs=3)]: Done   3 out of   3 | elapsed:  2.8min finished\n"
     ]
    },
    {
     "name": "stdout",
     "output_type": "stream",
     "text": [
      "Time taken by parallel training of 3 models with size 3000: 178.8060863018036 seconds\n"
     ]
    },
    {
     "name": "stderr",
     "output_type": "stream",
     "text": [
      "[Parallel(n_jobs=3)]: Using backend LokyBackend with 3 concurrent workers.\n",
      "[Parallel(n_jobs=3)]: Done   3 out of   3 | elapsed:  5.4min finished\n"
     ]
    },
    {
     "name": "stdout",
     "output_type": "stream",
     "text": [
      "Time taken by parallel training of 3 models with size 6000: 335.29078340530396 seconds\n"
     ]
    },
    {
     "name": "stderr",
     "output_type": "stream",
     "text": [
      "[Parallel(n_jobs=3)]: Using backend LokyBackend with 3 concurrent workers.\n",
      "[Parallel(n_jobs=3)]: Done   3 out of   3 | elapsed:  7.9min finished\n"
     ]
    },
    {
     "name": "stdout",
     "output_type": "stream",
     "text": [
      "Time taken by parallel training of 3 models with size 9000: 487.3409073352814 seconds\n"
     ]
    },
    {
     "name": "stderr",
     "output_type": "stream",
     "text": [
      "[Parallel(n_jobs=3)]: Using backend LokyBackend with 3 concurrent workers.\n"
     ]
    },
    {
     "name": "stdout",
     "output_type": "stream",
     "text": [
      "Time taken by parallel training of 3 models with size 12000: 640.6674711704254 seconds\n"
     ]
    },
    {
     "name": "stderr",
     "output_type": "stream",
     "text": [
      "[Parallel(n_jobs=3)]: Done   3 out of   3 | elapsed: 10.4min finished\n"
     ]
    }
   ],
   "source": [
    "times_nn_parr = []\n",
    "for i, size in enumerate(sizes):\n",
    "    start_ensemble_nn = time.time()\n",
    "    models_parr = get_nn_models()\n",
    "    Parallel(n_jobs=3, backend='loky', verbose=1)\\\n",
    "                            (delayed(fit_and_evaluate_nn_model)(model, x_train_sequence[:size], y_train_enc[:size], \n",
    "                                                                x_val_sequence, y_val_enc) \\\n",
    "                             for model in models_parr)\n",
    "    end_ensemble_nn = time.time()\n",
    "    times_nn_parr.append(end_ensemble_nn - start_ensemble_nn)\n",
    "    print('Time taken by parallel training of 3 models with size {}: {} seconds'.format(size, times_nn_parr[i]))"
   ]
  },
  {
   "cell_type": "code",
   "execution_count": 178,
   "metadata": {},
   "outputs": [],
   "source": [
    "times_nn_seq.append(time_ensemble_nn_seq)\n",
    "times_nn_parr.append(time_ensemble_nn_par)\n",
    "sizes.append(len(x_train))"
   ]
  },
  {
   "cell_type": "code",
   "execution_count": 206,
   "metadata": {},
   "outputs": [],
   "source": [
    "def interplotate_smooth(x, y):\n",
    "    x_new = np.linspace(min(x) - 100, max(x) + 100, 300)\n",
    "\n",
    "    spl = make_interp_spline(x, y, k=3)\n",
    "    y_new = spl(x_new)\n",
    "    return x_new, y_new"
   ]
  },
  {
   "cell_type": "markdown",
   "metadata": {},
   "source": [
    "### Plot the execution time trend against data size for the deep models training step"
   ]
  },
  {
   "cell_type": "code",
   "execution_count": 232,
   "metadata": {},
   "outputs": [
    {
     "data": {
      "image/png": "[encoded data removed]",
      "text/plain": [
       "<Figure size 432x288 with 1 Axes>"
      ]
     },
     "metadata": {
      "needs_background": "light"
     },
     "output_type": "display_data"
    }
   ],
   "source": [
    "plt.plot(*interplotate_smooth(sizes, times_nn_seq), label='Sequential')\n",
    "plt.plot(*interplotate_smooth(sizes, times_nn_parr), label='Parallel')\n",
    "plt.xlabel('Number of data points')\n",
    "plt.ylabel('Time (seconds)')\n",
    "plt.title('Training of deep neural network models ')\n",
    "plt.legend()\n",
    "plt.savefig('neural_seq_vs_par.png')\n",
    "plt.show()"
   ]
  },
  {
   "cell_type": "markdown",
   "metadata": {},
   "source": [
    "### We will also try to experiment and visualize the second most performance gaining step of our implementation, which is the preprocessing."
   ]
  },
  {
   "cell_type": "code",
   "execution_count": 218,
   "metadata": {},
   "outputs": [
    {
     "name": "stdout",
     "output_type": "stream",
     "text": [
      "Time taken by sequential preprocessing with size 3000: 1.348273515701294 seconds\n",
      "Time taken by sequential preprocessing with size 6000: 2.667013168334961 seconds\n",
      "Time taken by sequential preprocessing with size 9000: 4.019038200378418 seconds\n",
      "Time taken by sequential preprocessing with size 12000: 5.396446943283081 seconds\n"
     ]
    }
   ],
   "source": [
    "times_prep_seq = []\n",
    "for i, size in enumerate(sizes[:4]):\n",
    "    start_preprocess = time.time()\n",
    "    temp = get_preprocessed_data(x_train[:size])\n",
    "    end_preprocess = time.time()\n",
    "    times_prep_seq.append(end_preprocess - start_preprocess)\n",
    "    print('Time taken by sequential preprocessing with size {}: {} seconds'.format(size, times_prep_seq[i]))"
   ]
  },
  {
   "cell_type": "code",
   "execution_count": 219,
   "metadata": {},
   "outputs": [],
   "source": [
    "times_prep_seq.append(time_preprocess_seq)"
   ]
  },
  {
   "cell_type": "code",
   "execution_count": 224,
   "metadata": {},
   "outputs": [
    {
     "name": "stderr",
     "output_type": "stream",
     "text": [
      "[Parallel(n_jobs=4)]: Using backend LokyBackend with 4 concurrent workers.\n",
      "[Parallel(n_jobs=4)]: Done   1 tasks      | elapsed:    1.9s\n",
      "[Parallel(n_jobs=4)]: Done   2 out of   4 | elapsed:    2.1s remaining:    2.1s\n",
      "[Parallel(n_jobs=4)]: Done   4 out of   4 | elapsed:    2.1s remaining:    0.0s\n",
      "[Parallel(n_jobs=4)]: Done   4 out of   4 | elapsed:    2.1s finished\n",
      "[Parallel(n_jobs=4)]: Using backend LokyBackend with 4 concurrent workers.\n"
     ]
    },
    {
     "name": "stdout",
     "output_type": "stream",
     "text": [
      "Time taken by parallel preprocessing with size 3000: 2.2475900650024414 seconds\n"
     ]
    },
    {
     "name": "stderr",
     "output_type": "stream",
     "text": [
      "[Parallel(n_jobs=4)]: Done   1 tasks      | elapsed:    1.9s\n",
      "[Parallel(n_jobs=4)]: Done   2 out of   4 | elapsed:    2.1s remaining:    2.1s\n",
      "[Parallel(n_jobs=4)]: Done   4 out of   4 | elapsed:    2.2s remaining:    0.0s\n",
      "[Parallel(n_jobs=4)]: Done   4 out of   4 | elapsed:    2.2s finished\n",
      "[Parallel(n_jobs=4)]: Using backend LokyBackend with 4 concurrent workers.\n"
     ]
    },
    {
     "name": "stdout",
     "output_type": "stream",
     "text": [
      "Time taken by parallel preprocessing with size 6000: 2.2816946506500244 seconds\n"
     ]
    },
    {
     "name": "stderr",
     "output_type": "stream",
     "text": [
      "[Parallel(n_jobs=4)]: Done   1 tasks      | elapsed:    2.0s\n",
      "[Parallel(n_jobs=4)]: Done   2 out of   4 | elapsed:    2.0s remaining:    2.0s\n",
      "[Parallel(n_jobs=4)]: Done   4 out of   4 | elapsed:    2.1s remaining:    0.0s\n",
      "[Parallel(n_jobs=4)]: Done   4 out of   4 | elapsed:    2.1s finished\n",
      "[Parallel(n_jobs=4)]: Using backend LokyBackend with 4 concurrent workers.\n"
     ]
    },
    {
     "name": "stdout",
     "output_type": "stream",
     "text": [
      "Time taken by parallel preprocessing with size 9000: 2.1778769493103027 seconds\n"
     ]
    },
    {
     "name": "stderr",
     "output_type": "stream",
     "text": [
      "[Parallel(n_jobs=4)]: Done   1 tasks      | elapsed:    2.1s\n",
      "[Parallel(n_jobs=4)]: Done   2 out of   4 | elapsed:    2.2s remaining:    2.2s\n",
      "[Parallel(n_jobs=4)]: Done   4 out of   4 | elapsed:    2.3s remaining:    0.0s\n",
      "[Parallel(n_jobs=4)]: Done   4 out of   4 | elapsed:    2.3s finished\n",
      "[Parallel(n_jobs=4)]: Using backend LokyBackend with 4 concurrent workers.\n"
     ]
    },
    {
     "name": "stdout",
     "output_type": "stream",
     "text": [
      "Time taken by parallel preprocessing with size 12000: 2.408221960067749 seconds\n"
     ]
    },
    {
     "name": "stderr",
     "output_type": "stream",
     "text": [
      "[Parallel(n_jobs=4)]: Done   1 tasks      | elapsed:    2.1s\n",
      "[Parallel(n_jobs=4)]: Done   2 out of   4 | elapsed:    2.3s remaining:    2.3s\n"
     ]
    },
    {
     "name": "stdout",
     "output_type": "stream",
     "text": [
      "Time taken by parallel preprocessing with size 15663: 2.5456459522247314 seconds\n"
     ]
    },
    {
     "name": "stderr",
     "output_type": "stream",
     "text": [
      "[Parallel(n_jobs=4)]: Done   4 out of   4 | elapsed:    2.4s remaining:    0.0s\n",
      "[Parallel(n_jobs=4)]: Done   4 out of   4 | elapsed:    2.4s finished\n"
     ]
    }
   ],
   "source": [
    "times_prep_parr = []\n",
    "for i, size in enumerate(sizes[:5]):\n",
    "    start_preprocess = time.time()\n",
    "    temp = np.hstack(Parallel(n_jobs=4, backend='loky', verbose=10)\\\n",
    "                            (delayed(get_preprocessed_data)(data) for data in next_chunk(x_train)))\n",
    "    end_preprocess = time.time()\n",
    "    times_prep_parr.append(end_preprocess - start_preprocess)\n",
    "    print('Time taken by parallel preprocessing with size {}: {} seconds'.format(size, times_prep_parr[i]))"
   ]
  },
  {
   "cell_type": "markdown",
   "metadata": {},
   "source": [
    "### Plot the execution time trend against data size for the preprocessing step"
   ]
  },
  {
   "cell_type": "code",
   "execution_count": 230,
   "metadata": {},
   "outputs": [
    {
     "data": {
      "image/png": "[encoded data removed]",
      "text/plain": [
       "<Figure size 432x288 with 1 Axes>"
      ]
     },
     "metadata": {
      "needs_background": "light"
     },
     "output_type": "display_data"
    }
   ],
   "source": [
    "plt.plot(*interplotate_smooth(sizes, times_prep_seq), label='Sequential')\n",
    "plt.plot(*interplotate_smooth(sizes, times_prep_parr), label='Parallel')\n",
    "plt.xlabel('Number of data points')\n",
    "plt.ylabel('Time (seconds)')\n",
    "plt.title('Preprocessing of texts')\n",
    "plt.legend()\n",
    "plt.savefig('prep_seq_vs_par.png')\n",
    "plt.show()"
   ]
  }
 ],
 "metadata": {
  "kernelspec": {
   "display_name": "Python 3",
   "language": "python",
   "name": "python3"
  },
  "language_info": {
   "codemirror_mode": {
    "name": "ipython",
    "version": 3
   },
   "file_extension": ".py",
   "mimetype": "text/x-python",
   "name": "python",
   "nbconvert_exporter": "python",
   "pygments_lexer": "ipython3",
   "version": "3.6.7"
  }
 },
 "nbformat": 4,
 "nbformat_minor": 2
}
